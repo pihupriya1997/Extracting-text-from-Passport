{
 "cells": [
  {
   "cell_type": "code",
   "execution_count": 18,
   "metadata": {},
   "outputs": [],
   "source": [
    "#Import the necessary packages\n",
    "import cv2\n",
    "import numpy as np\n",
    "import matplotlib.pyplot as plt\n",
    "import imutils\n",
    "from PIL import Image       #Python Imaging Library\n",
    "import pytesseract\n",
    "pytesseract.pytesseract.tesseract_cmd = r'C:\\Program Files\\Tesseract-OCR\\tesseract'\n"
   ]
  },
  {
   "cell_type": "code",
   "execution_count": 19,
   "metadata": {},
   "outputs": [],
   "source": [
    "#Load the image\n",
    "Im = \"C:/Users/Acer/Desktop/Passport/MRZ.jpeg\""
   ]
  },
  {
   "cell_type": "code",
   "execution_count": 28,
   "metadata": {},
   "outputs": [],
   "source": [
    "def process_image(Im):\n",
    "    #Initialize rectangular kernel and square kernel\n",
    "    rectKernel = cv2.getStructuringElement(cv2.MORPH_RECT, (13, 5))\n",
    "    sqKernel = cv2.getStructuringElement(cv2.MORPH_RECT, (21, 21))\n",
    "    kernel = np.ones((5, 5), np.uint8)\n",
    "    \n",
    "    #After loading, convert it into a Gray scale and resize it\n",
    "    img = cv2.imread(Im,cv2.IMREAD_GRAYSCALE)\n",
    "    img = imutils.resize(img, height=390)\n",
    "    \n",
    "    # Smooth the image using 5*5 Gaussian, then apply the Blackhat\n",
    "    gausBlur = cv2.GaussianBlur(img, (5,5),0) \n",
    "    \n",
    "    # Morphological operator to find dark regions on a light background\n",
    "    blackhat  = cv2.morphologyEx(gausBlur, cv2.MORPH_GRADIENT, kernel)   \n",
    "    \n",
    "    # Apply closing operation using the rectangular kernel to close \n",
    "    # gaps in between letters then apply Ostu's thresholding method\n",
    "    rectclosing = cv2.morphologyEx(blackhat, cv2.MORPH_CLOSE, rectKernel)                     \n",
    "    rectthresh = cv2.threshold(rectclosing, 0, 255, cv2.THRESH_BINARY | cv2.THRESH_OTSU)[1]   \n",
    "    # Perform another cloing operation , this time using the square\n",
    "    # kernel to close gaps between lines og MRZ, then perform a\n",
    "    # series of erosions to break apart connected components\n",
    "    sqclosing = cv2.morphologyEx(rectthresh, cv2.MORPH_CLOSE, sqKernel)                     \n",
    "    sqthresh = cv2.threshold(sqclosing, 0, 255, cv2.THRESH_BINARY | cv2.THRESH_OTSU)[1]       \n",
    "    img_erosion = cv2.erode(sqthresh,None, iterations=4) \n",
    "    \n",
    "    # During thresholding, it's possible that border pixels were\n",
    "    # included in thresholding, so let's see 5% of the left\n",
    "    # and right borders to zero\n",
    "    p = int(img.shape[1] * 0.05)\n",
    "    img_erosion[:, 0:p] = 0\n",
    "    img_erosion[:, img.shape[1] - p:] = 0\n",
    "    img_erosion[img.shape[1] - p:, :] = 0\n",
    "    img_erosion[0:p, :] = 0\n",
    "    \n",
    "    # Find Contours in the erosion image and sort them in the order\n",
    "    cnts = cv2.findContours(img_erosion.copy(), cv2.RETR_EXTERNAL,\n",
    "    cv2.CHAIN_APPROX_SIMPLE)\n",
    "    cnts = imutils.grab_contours(cnts)\n",
    "    cnts = sorted(cnts, key=cv2.contourArea, reverse=True)\n",
    "    # Loop over the contours\n",
    "    for c in cnts:\n",
    "        # Compute the bounding box of the contour \n",
    "        # and compute the Aspect Ratio(ar) and Coverage Ratio(cr) \n",
    "        # width to width of an image\n",
    "        (x, y, w, h) = cv2.boundingRect(c)\n",
    "        ar = w / float(h)\n",
    "        crWidth = w / float(img.shape[1])\n",
    "        if ar > 5 and crWidth > 0.75: \n",
    "            pX = int((x + w) * 0.03)\n",
    "            pY = int((y + h) * 0.03)\n",
    "            x, y = max(0,(x-pX)), max(0,(y-pY))\n",
    "            (w, h) = (w + (pX * 2), h + (pY * 2))\n",
    "            # Extract the ROI from the image and draw a bounding box \n",
    "            # surrounding the MRZ\n",
    "            roi = img[y:y + h, x:x + w].copy()\n",
    "            cv2.rectangle(img, (x, y), (x + w, y + h), (0, 255, 0), 2)\n",
    "            break\n",
    "    # Returning the text      \n",
    "    text = pytesseract.image_to_string(roi, lang = 'eng')\n",
    "    return(text)\n",
    "          \n",
    "    \n",
    "    "
   ]
  },
  {
   "cell_type": "code",
   "execution_count": 32,
   "metadata": {},
   "outputs": [
    {
     "data": {
      "text/plain": [
       "'P<INDSINGRI<<SHANTHIPRIYAC<<<<ccccccccccccc<\\nU1885269<31ND9710050F2912017<<<<<c<cccc<cc<d'"
      ]
     },
     "execution_count": 32,
     "metadata": {},
     "output_type": "execute_result"
    }
   ],
   "source": [
    "# Pass the image path in the place of Im\n",
    "MRZ = process_image(Im)\n",
    "MRZ"
   ]
  }
 ],
 "metadata": {
  "kernelspec": {
   "display_name": "Python 3",
   "language": "python",
   "name": "python3"
  },
  "language_info": {
   "codemirror_mode": {
    "name": "ipython",
    "version": 3
   },
   "file_extension": ".py",
   "mimetype": "text/x-python",
   "name": "python",
   "nbconvert_exporter": "python",
   "pygments_lexer": "ipython3",
   "version": "3.7.1"
  }
 },
 "nbformat": 4,
 "nbformat_minor": 2
}
